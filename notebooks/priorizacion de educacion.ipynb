{
 "cells": [
  {
   "cell_type": "markdown",
   "metadata": {},
   "source": [
    "# Priorizo educacion y me fijo el area de las postulaciones por nivel educativo\n",
    "\n",
    "se puede hacer variantes como la educacion maxima alcanzada, para ello solo se ordena por id y prioridad_nom y nos quedamos con el primero por cada idpostulante. \n"
   ]
  },
  {
   "cell_type": "code",
   "execution_count": 2,
   "metadata": {},
   "outputs": [
    {
     "data": {
      "text/html": [
       "<style>.container { width:90% !important; }</style>"
      ],
      "text/plain": [
       "<IPython.core.display.HTML object>"
      ]
     },
     "metadata": {},
     "output_type": "display_data"
    }
   ],
   "source": [
    "#importaciones\n",
    "from IPython.display import HTML\n",
    "from IPython.core.display import display, HTML\n",
    "display(HTML(\"<style>.container { width:90% !important; }</style>\"))\n",
    "import pandas as pd\n",
    "import numpy as np\n",
    "import matplotlib.pyplot as plt\n",
    "import seaborn as sns\n",
    "from pandas.plotting import _converter\n",
    "%matplotlib inline \n",
    "plt.style.use('default') # haciendo los graficos un poco mas bonitos en matplotlib\n",
    "#plt.rcParams['figure.figsize'] = (20, 10)\n",
    "import datetime\n",
    "sns.set(style=\"whitegrid\") # seteando tipo de grid en seaborn"
   ]
  },
  {
   "cell_type": "code",
   "execution_count": 3,
   "metadata": {},
   "outputs": [],
   "source": [
    "df_post_gen_age = pd.read_csv(\"/home/kevin/Documents/orga datos/datos_navent_fiuba/fiuba_2_postulantes_genero_y_edad.csv\")\n",
    "df_post_gen_age[\"fechanacimiento\"] = pd.to_datetime(df_post_gen_age[\"fechanacimiento\"], errors=\"coerce\")\n",
    "df_post_gen_age[\"edad\"] = df_post_gen_age[\"fechanacimiento\"].apply(lambda x : ((datetime.datetime.today()- x).days)/364)\n"
   ]
  },
  {
   "cell_type": "code",
   "execution_count": 4,
   "metadata": {},
   "outputs": [
    {
     "data": {
      "text/plain": [
       "idpostulante    False\n",
       "nombre          False\n",
       "estado          False\n",
       "dtype: bool"
      ]
     },
     "execution_count": 4,
     "metadata": {},
     "output_type": "execute_result"
    }
   ],
   "source": [
    "df_edu = pd.read_csv(\"/home/kevin/Documents/orga datos/datos_navent_fiuba/fiuba_1_postulantes_educacion.csv\")\n",
    "df_edu.isnull().any()"
   ]
  },
  {
   "cell_type": "code",
   "execution_count": 5,
   "metadata": {},
   "outputs": [
    {
     "data": {
      "text/html": [
       "<div>\n",
       "<style scoped>\n",
       "    .dataframe tbody tr th:only-of-type {\n",
       "        vertical-align: middle;\n",
       "    }\n",
       "\n",
       "    .dataframe tbody tr th {\n",
       "        vertical-align: top;\n",
       "    }\n",
       "\n",
       "    .dataframe thead th {\n",
       "        text-align: right;\n",
       "    }\n",
       "</style>\n",
       "<table border=\"1\" class=\"dataframe\">\n",
       "  <thead>\n",
       "    <tr style=\"text-align: right;\">\n",
       "      <th></th>\n",
       "      <th></th>\n",
       "      <th>idpostulante</th>\n",
       "    </tr>\n",
       "    <tr>\n",
       "      <th>nombre</th>\n",
       "      <th>estado</th>\n",
       "      <th></th>\n",
       "    </tr>\n",
       "  </thead>\n",
       "  <tbody>\n",
       "    <tr>\n",
       "      <th rowspan=\"3\" valign=\"top\">Doctorado</th>\n",
       "      <th>Abandonado</th>\n",
       "      <td>15</td>\n",
       "    </tr>\n",
       "    <tr>\n",
       "      <th>En Curso</th>\n",
       "      <td>94</td>\n",
       "    </tr>\n",
       "    <tr>\n",
       "      <th>Graduado</th>\n",
       "      <td>105</td>\n",
       "    </tr>\n",
       "    <tr>\n",
       "      <th rowspan=\"3\" valign=\"top\">Master</th>\n",
       "      <th>Abandonado</th>\n",
       "      <td>144</td>\n",
       "    </tr>\n",
       "    <tr>\n",
       "      <th>En Curso</th>\n",
       "      <td>1519</td>\n",
       "    </tr>\n",
       "    <tr>\n",
       "      <th>Graduado</th>\n",
       "      <td>1935</td>\n",
       "    </tr>\n",
       "    <tr>\n",
       "      <th rowspan=\"3\" valign=\"top\">Otro</th>\n",
       "      <th>Abandonado</th>\n",
       "      <td>947</td>\n",
       "    </tr>\n",
       "    <tr>\n",
       "      <th>En Curso</th>\n",
       "      <td>4919</td>\n",
       "    </tr>\n",
       "    <tr>\n",
       "      <th>Graduado</th>\n",
       "      <td>18882</td>\n",
       "    </tr>\n",
       "    <tr>\n",
       "      <th rowspan=\"3\" valign=\"top\">Posgrado</th>\n",
       "      <th>Abandonado</th>\n",
       "      <td>317</td>\n",
       "    </tr>\n",
       "    <tr>\n",
       "      <th>En Curso</th>\n",
       "      <td>2239</td>\n",
       "    </tr>\n",
       "    <tr>\n",
       "      <th>Graduado</th>\n",
       "      <td>4831</td>\n",
       "    </tr>\n",
       "    <tr>\n",
       "      <th rowspan=\"3\" valign=\"top\">Secundario</th>\n",
       "      <th>Abandonado</th>\n",
       "      <td>3156</td>\n",
       "    </tr>\n",
       "    <tr>\n",
       "      <th>En Curso</th>\n",
       "      <td>3995</td>\n",
       "    </tr>\n",
       "    <tr>\n",
       "      <th>Graduado</th>\n",
       "      <td>103105</td>\n",
       "    </tr>\n",
       "    <tr>\n",
       "      <th rowspan=\"3\" valign=\"top\">Terciario/Técnico</th>\n",
       "      <th>Abandonado</th>\n",
       "      <td>5692</td>\n",
       "    </tr>\n",
       "    <tr>\n",
       "      <th>En Curso</th>\n",
       "      <td>15032</td>\n",
       "    </tr>\n",
       "    <tr>\n",
       "      <th>Graduado</th>\n",
       "      <td>27009</td>\n",
       "    </tr>\n",
       "    <tr>\n",
       "      <th rowspan=\"3\" valign=\"top\">Universitario</th>\n",
       "      <th>Abandonado</th>\n",
       "      <td>14955</td>\n",
       "    </tr>\n",
       "    <tr>\n",
       "      <th>En Curso</th>\n",
       "      <td>50733</td>\n",
       "    </tr>\n",
       "    <tr>\n",
       "      <th>Graduado</th>\n",
       "      <td>38607</td>\n",
       "    </tr>\n",
       "  </tbody>\n",
       "</table>\n",
       "</div>"
      ],
      "text/plain": [
       "                              idpostulante\n",
       "nombre            estado                  \n",
       "Doctorado         Abandonado            15\n",
       "                  En Curso              94\n",
       "                  Graduado             105\n",
       "Master            Abandonado           144\n",
       "                  En Curso            1519\n",
       "                  Graduado            1935\n",
       "Otro              Abandonado           947\n",
       "                  En Curso            4919\n",
       "                  Graduado           18882\n",
       "Posgrado          Abandonado           317\n",
       "                  En Curso            2239\n",
       "                  Graduado            4831\n",
       "Secundario        Abandonado          3156\n",
       "                  En Curso            3995\n",
       "                  Graduado          103105\n",
       "Terciario/Técnico Abandonado          5692\n",
       "                  En Curso           15032\n",
       "                  Graduado           27009\n",
       "Universitario     Abandonado         14955\n",
       "                  En Curso           50733\n",
       "                  Graduado           38607"
      ]
     },
     "execution_count": 5,
     "metadata": {},
     "output_type": "execute_result"
    }
   ],
   "source": [
    "df_edu.groupby(['nombre',\"estado\"]).count()"
   ]
  },
  {
   "cell_type": "code",
   "execution_count": 6,
   "metadata": {},
   "outputs": [],
   "source": [
    "orden_nombre = {\n",
    "    \"Doctorado\":0,\n",
    "    \"Master\":1,\n",
    "    \"Posgrado\":2,\n",
    "    \"Universitario\":3,\n",
    "    \"Terciario/Técnico\":4,\n",
    "    \"Secundario\":5,\n",
    "    \"Otro\":6\n",
    "}\n",
    "\n",
    "orden_estado = {\n",
    "    \"Graduado\":0,\n",
    "    \"En Curso\":1,\n",
    "    \"Abandonado\":2,\n",
    "}"
   ]
  },
  {
   "cell_type": "code",
   "execution_count": 7,
   "metadata": {},
   "outputs": [],
   "source": [
    "df_edu[\"prioridad_nom\"] = df_edu[\"nombre\"].apply(lambda nombre: orden_nombre.get(nombre))\n",
    "df_edu[\"prioridad_est\"] = df_edu[\"estado\"].apply(lambda estado: orden_estado.get(estado))\n"
   ]
  },
  {
   "cell_type": "code",
   "execution_count": 8,
   "metadata": {},
   "outputs": [
    {
     "data": {
      "text/html": [
       "<div>\n",
       "<style scoped>\n",
       "    .dataframe tbody tr th:only-of-type {\n",
       "        vertical-align: middle;\n",
       "    }\n",
       "\n",
       "    .dataframe tbody tr th {\n",
       "        vertical-align: top;\n",
       "    }\n",
       "\n",
       "    .dataframe thead th {\n",
       "        text-align: right;\n",
       "    }\n",
       "</style>\n",
       "<table border=\"1\" class=\"dataframe\">\n",
       "  <thead>\n",
       "    <tr style=\"text-align: right;\">\n",
       "      <th></th>\n",
       "      <th>nombre</th>\n",
       "      <th>prioridad_nom</th>\n",
       "      <th>estado</th>\n",
       "      <th>prioridad_est</th>\n",
       "    </tr>\n",
       "  </thead>\n",
       "  <tbody>\n",
       "    <tr>\n",
       "      <th>0</th>\n",
       "      <td>Posgrado</td>\n",
       "      <td>2</td>\n",
       "      <td>En Curso</td>\n",
       "      <td>1</td>\n",
       "    </tr>\n",
       "    <tr>\n",
       "      <th>1</th>\n",
       "      <td>Universitario</td>\n",
       "      <td>3</td>\n",
       "      <td>En Curso</td>\n",
       "      <td>1</td>\n",
       "    </tr>\n",
       "    <tr>\n",
       "      <th>2</th>\n",
       "      <td>Universitario</td>\n",
       "      <td>3</td>\n",
       "      <td>En Curso</td>\n",
       "      <td>1</td>\n",
       "    </tr>\n",
       "    <tr>\n",
       "      <th>3</th>\n",
       "      <td>Universitario</td>\n",
       "      <td>3</td>\n",
       "      <td>En Curso</td>\n",
       "      <td>1</td>\n",
       "    </tr>\n",
       "    <tr>\n",
       "      <th>4</th>\n",
       "      <td>Master</td>\n",
       "      <td>1</td>\n",
       "      <td>En Curso</td>\n",
       "      <td>1</td>\n",
       "    </tr>\n",
       "  </tbody>\n",
       "</table>\n",
       "</div>"
      ],
      "text/plain": [
       "          nombre  prioridad_nom    estado  prioridad_est\n",
       "0       Posgrado              2  En Curso              1\n",
       "1  Universitario              3  En Curso              1\n",
       "2  Universitario              3  En Curso              1\n",
       "3  Universitario              3  En Curso              1\n",
       "4         Master              1  En Curso              1"
      ]
     },
     "execution_count": 8,
     "metadata": {},
     "output_type": "execute_result"
    }
   ],
   "source": [
    "df_edu[[\"nombre\",\"prioridad_nom\",\"estado\",\"prioridad_est\"]].head()"
   ]
  },
  {
   "cell_type": "code",
   "execution_count": 9,
   "metadata": {},
   "outputs": [
    {
     "data": {
      "text/plain": [
       "idpostulante     False\n",
       "nombre           False\n",
       "estado           False\n",
       "prioridad_nom    False\n",
       "prioridad_est    False\n",
       "dtype: bool"
      ]
     },
     "execution_count": 9,
     "metadata": {},
     "output_type": "execute_result"
    }
   ],
   "source": [
    "df_edu.isnull().any()"
   ]
  },
  {
   "cell_type": "code",
   "execution_count": 10,
   "metadata": {},
   "outputs": [],
   "source": [
    "df_edu.sort_values(by= [\"idpostulante\",\"prioridad_est\",\"prioridad_nom\"],inplace= True)"
   ]
  },
  {
   "cell_type": "code",
   "execution_count": 11,
   "metadata": {},
   "outputs": [],
   "source": [
    "df_edu_unicos= df_edu.drop_duplicates(subset = \"idpostulante\",keep= \"first\")"
   ]
  },
  {
   "cell_type": "code",
   "execution_count": 12,
   "metadata": {},
   "outputs": [
    {
     "name": "stdout",
     "output_type": "stream",
     "text": [
      "(188752, 5)\n",
      "188752\n"
     ]
    }
   ],
   "source": [
    "print df_edu_unicos.shape\n",
    "print df_edu[\"idpostulante\"].value_counts().count()"
   ]
  },
  {
   "cell_type": "code",
   "execution_count": 13,
   "metadata": {},
   "outputs": [],
   "source": [
    "df_edu_unicos_graduados = df_edu_unicos[df_edu_unicos[\"prioridad_est\"]==0]"
   ]
  },
  {
   "cell_type": "code",
   "execution_count": 14,
   "metadata": {},
   "outputs": [
    {
     "data": {
      "text/html": [
       "<div>\n",
       "<style scoped>\n",
       "    .dataframe tbody tr th:only-of-type {\n",
       "        vertical-align: middle;\n",
       "    }\n",
       "\n",
       "    .dataframe tbody tr th {\n",
       "        vertical-align: top;\n",
       "    }\n",
       "\n",
       "    .dataframe thead th {\n",
       "        text-align: right;\n",
       "    }\n",
       "</style>\n",
       "<table border=\"1\" class=\"dataframe\">\n",
       "  <thead>\n",
       "    <tr style=\"text-align: right;\">\n",
       "      <th></th>\n",
       "      <th>idpostulante</th>\n",
       "      <th>estado</th>\n",
       "      <th>prioridad_nom</th>\n",
       "      <th>prioridad_est</th>\n",
       "    </tr>\n",
       "    <tr>\n",
       "      <th>nombre</th>\n",
       "      <th></th>\n",
       "      <th></th>\n",
       "      <th></th>\n",
       "      <th></th>\n",
       "    </tr>\n",
       "  </thead>\n",
       "  <tbody>\n",
       "    <tr>\n",
       "      <th>Doctorado</th>\n",
       "      <td>105</td>\n",
       "      <td>105</td>\n",
       "      <td>105</td>\n",
       "      <td>105</td>\n",
       "    </tr>\n",
       "    <tr>\n",
       "      <th>Master</th>\n",
       "      <td>1916</td>\n",
       "      <td>1916</td>\n",
       "      <td>1916</td>\n",
       "      <td>1916</td>\n",
       "    </tr>\n",
       "    <tr>\n",
       "      <th>Otro</th>\n",
       "      <td>3304</td>\n",
       "      <td>3304</td>\n",
       "      <td>3304</td>\n",
       "      <td>3304</td>\n",
       "    </tr>\n",
       "    <tr>\n",
       "      <th>Posgrado</th>\n",
       "      <td>4386</td>\n",
       "      <td>4386</td>\n",
       "      <td>4386</td>\n",
       "      <td>4386</td>\n",
       "    </tr>\n",
       "    <tr>\n",
       "      <th>Secundario</th>\n",
       "      <td>86475</td>\n",
       "      <td>86475</td>\n",
       "      <td>86475</td>\n",
       "      <td>86475</td>\n",
       "    </tr>\n",
       "    <tr>\n",
       "      <th>Terciario/Técnico</th>\n",
       "      <td>22246</td>\n",
       "      <td>22246</td>\n",
       "      <td>22246</td>\n",
       "      <td>22246</td>\n",
       "    </tr>\n",
       "    <tr>\n",
       "      <th>Universitario</th>\n",
       "      <td>33919</td>\n",
       "      <td>33919</td>\n",
       "      <td>33919</td>\n",
       "      <td>33919</td>\n",
       "    </tr>\n",
       "  </tbody>\n",
       "</table>\n",
       "</div>"
      ],
      "text/plain": [
       "                   idpostulante  estado  prioridad_nom  prioridad_est\n",
       "nombre                                                               \n",
       "Doctorado                   105     105            105            105\n",
       "Master                     1916    1916           1916           1916\n",
       "Otro                       3304    3304           3304           3304\n",
       "Posgrado                   4386    4386           4386           4386\n",
       "Secundario                86475   86475          86475          86475\n",
       "Terciario/Técnico         22246   22246          22246          22246\n",
       "Universitario             33919   33919          33919          33919"
      ]
     },
     "execution_count": 14,
     "metadata": {},
     "output_type": "execute_result"
    }
   ],
   "source": [
    "df_edu_unicos_graduados.groupby(\"nombre\").count()"
   ]
  },
  {
   "cell_type": "code",
   "execution_count": 15,
   "metadata": {},
   "outputs": [],
   "source": [
    "df_edu.sort_values(by= [\"idpostulante\",\"prioridad_nom\"],inplace= True)"
   ]
  },
  {
   "cell_type": "code",
   "execution_count": 16,
   "metadata": {},
   "outputs": [],
   "source": [
    "df_edu_unicos_max = df_edu.drop_duplicates(subset = \"idpostulante\",keep= \"first\")"
   ]
  },
  {
   "cell_type": "markdown",
   "metadata": {},
   "source": [
    "Ahora vamos a analizar con el tipo de detalle de la postulacion"
   ]
  },
  {
   "cell_type": "code",
   "execution_count": 17,
   "metadata": {},
   "outputs": [],
   "source": [
    "df_avisos_detalle = pd.read_csv(\"/home/kevin/Documents/orga datos/datos_navent_fiuba/fiuba_6_avisos_detalle.csv\")\n",
    "df_post = pd.read_csv(\"/home/kevin/Documents/orga datos/datos_navent_fiuba/fiuba_4_postulaciones.csv\")"
   ]
  },
  {
   "cell_type": "code",
   "execution_count": 18,
   "metadata": {},
   "outputs": [],
   "source": [
    "df_edu_max_postulaciones = df_edu_unicos_max.merge(df_post, on = \"idpostulante\")"
   ]
  },
  {
   "cell_type": "code",
   "execution_count": 19,
   "metadata": {},
   "outputs": [],
   "source": [
    "df_aviso_corto = df_avisos_detalle[[\"idaviso\",\"tipo_de_trabajo\",\"nivel_laboral\",\"nombre_area\"]]"
   ]
  },
  {
   "cell_type": "code",
   "execution_count": 20,
   "metadata": {},
   "outputs": [],
   "source": [
    "df_max_post_detalle = df_edu_max_postulaciones.merge(df_aviso_corto, on = \"idaviso\")"
   ]
  },
  {
   "cell_type": "code",
   "execution_count": 25,
   "metadata": {},
   "outputs": [
    {
     "data": {
      "text/html": [
       "<div>\n",
       "<style scoped>\n",
       "    .dataframe tbody tr th:only-of-type {\n",
       "        vertical-align: middle;\n",
       "    }\n",
       "\n",
       "    .dataframe tbody tr th {\n",
       "        vertical-align: top;\n",
       "    }\n",
       "\n",
       "    .dataframe thead th {\n",
       "        text-align: right;\n",
       "    }\n",
       "</style>\n",
       "<table border=\"1\" class=\"dataframe\">\n",
       "  <thead>\n",
       "    <tr style=\"text-align: right;\">\n",
       "      <th></th>\n",
       "      <th>idpostulante</th>\n",
       "      <th>estado</th>\n",
       "      <th>prioridad_nom</th>\n",
       "      <th>prioridad_est</th>\n",
       "      <th>idaviso</th>\n",
       "      <th>fechapostulacion</th>\n",
       "      <th>tipo_de_trabajo</th>\n",
       "      <th>nivel_laboral</th>\n",
       "      <th>nombre_area</th>\n",
       "    </tr>\n",
       "    <tr>\n",
       "      <th>nombre</th>\n",
       "      <th></th>\n",
       "      <th></th>\n",
       "      <th></th>\n",
       "      <th></th>\n",
       "      <th></th>\n",
       "      <th></th>\n",
       "      <th></th>\n",
       "      <th></th>\n",
       "      <th></th>\n",
       "    </tr>\n",
       "  </thead>\n",
       "  <tbody>\n",
       "    <tr>\n",
       "      <th>Doctorado</th>\n",
       "      <td>3226</td>\n",
       "      <td>3226</td>\n",
       "      <td>3226</td>\n",
       "      <td>3226</td>\n",
       "      <td>3226</td>\n",
       "      <td>3226</td>\n",
       "      <td>3226</td>\n",
       "      <td>3226</td>\n",
       "      <td>3226</td>\n",
       "    </tr>\n",
       "    <tr>\n",
       "      <th>Master</th>\n",
       "      <td>51007</td>\n",
       "      <td>51007</td>\n",
       "      <td>51007</td>\n",
       "      <td>51007</td>\n",
       "      <td>51007</td>\n",
       "      <td>51007</td>\n",
       "      <td>51007</td>\n",
       "      <td>51007</td>\n",
       "      <td>51007</td>\n",
       "    </tr>\n",
       "    <tr>\n",
       "      <th>Otro</th>\n",
       "      <td>14789</td>\n",
       "      <td>14789</td>\n",
       "      <td>14789</td>\n",
       "      <td>14789</td>\n",
       "      <td>14789</td>\n",
       "      <td>14789</td>\n",
       "      <td>14789</td>\n",
       "      <td>14789</td>\n",
       "      <td>14789</td>\n",
       "    </tr>\n",
       "    <tr>\n",
       "      <th>Posgrado</th>\n",
       "      <td>87580</td>\n",
       "      <td>87580</td>\n",
       "      <td>87580</td>\n",
       "      <td>87580</td>\n",
       "      <td>87580</td>\n",
       "      <td>87580</td>\n",
       "      <td>87580</td>\n",
       "      <td>87580</td>\n",
       "      <td>87580</td>\n",
       "    </tr>\n",
       "    <tr>\n",
       "      <th>Secundario</th>\n",
       "      <td>939372</td>\n",
       "      <td>939372</td>\n",
       "      <td>939372</td>\n",
       "      <td>939372</td>\n",
       "      <td>939372</td>\n",
       "      <td>939372</td>\n",
       "      <td>939372</td>\n",
       "      <td>939372</td>\n",
       "      <td>939372</td>\n",
       "    </tr>\n",
       "    <tr>\n",
       "      <th>Terciario/Técnico</th>\n",
       "      <td>410924</td>\n",
       "      <td>410924</td>\n",
       "      <td>410924</td>\n",
       "      <td>410924</td>\n",
       "      <td>410924</td>\n",
       "      <td>410924</td>\n",
       "      <td>410924</td>\n",
       "      <td>410924</td>\n",
       "      <td>410924</td>\n",
       "    </tr>\n",
       "    <tr>\n",
       "      <th>Universitario</th>\n",
       "      <td>1478192</td>\n",
       "      <td>1478192</td>\n",
       "      <td>1478192</td>\n",
       "      <td>1478192</td>\n",
       "      <td>1478192</td>\n",
       "      <td>1478192</td>\n",
       "      <td>1478192</td>\n",
       "      <td>1478192</td>\n",
       "      <td>1478192</td>\n",
       "    </tr>\n",
       "  </tbody>\n",
       "</table>\n",
       "</div>"
      ],
      "text/plain": [
       "                   idpostulante   estado  prioridad_nom  prioridad_est  \\\n",
       "nombre                                                                   \n",
       "Doctorado                  3226     3226           3226           3226   \n",
       "Master                    51007    51007          51007          51007   \n",
       "Otro                      14789    14789          14789          14789   \n",
       "Posgrado                  87580    87580          87580          87580   \n",
       "Secundario               939372   939372         939372         939372   \n",
       "Terciario/Técnico        410924   410924         410924         410924   \n",
       "Universitario           1478192  1478192        1478192        1478192   \n",
       "\n",
       "                   idaviso  fechapostulacion  tipo_de_trabajo  nivel_laboral  \\\n",
       "nombre                                                                         \n",
       "Doctorado             3226              3226             3226           3226   \n",
       "Master               51007             51007            51007          51007   \n",
       "Otro                 14789             14789            14789          14789   \n",
       "Posgrado             87580             87580            87580          87580   \n",
       "Secundario          939372            939372           939372         939372   \n",
       "Terciario/Técnico   410924            410924           410924         410924   \n",
       "Universitario      1478192           1478192          1478192        1478192   \n",
       "\n",
       "                   nombre_area  \n",
       "nombre                          \n",
       "Doctorado                 3226  \n",
       "Master                   51007  \n",
       "Otro                     14789  \n",
       "Posgrado                 87580  \n",
       "Secundario              939372  \n",
       "Terciario/Técnico       410924  \n",
       "Universitario          1478192  "
      ]
     },
     "execution_count": 25,
     "metadata": {},
     "output_type": "execute_result"
    }
   ],
   "source": [
    "df_max_post_detalle.groupby([\"nombre\",]).count()"
   ]
  },
  {
   "cell_type": "code",
   "execution_count": 31,
   "metadata": {},
   "outputs": [
    {
     "data": {
      "text/plain": [
       "nombre_area\n",
       "Administración         181357\n",
       "Ventas                 165927\n",
       "Comercial              115489\n",
       "Atención al Cliente     92938\n",
       "Recepcionista           72781\n",
       "Name: idpostulante, dtype: int64"
      ]
     },
     "execution_count": 31,
     "metadata": {},
     "output_type": "execute_result"
    }
   ],
   "source": [
    "df_max_post_detalle[df_max_post_detalle[\"nombre\"] == \"Universitario\"].groupby(\"nombre_area\")['idpostulante']\\\n",
    ".count().sort_values(ascending=False).head(5)"
   ]
  },
  {
   "cell_type": "code",
   "execution_count": 41,
   "metadata": {},
   "outputs": [
    {
     "data": {
      "text/plain": [
       "<matplotlib.axes._subplots.AxesSubplot at 0x7f1ccdc9f950>"
      ]
     },
     "execution_count": 41,
     "metadata": {},
     "output_type": "execute_result"
    },
    {
     "data": {
      "image/png": "[encoded data removed]",
      "text/plain": [
       "<Figure size 432x288 with 1 Axes>"
      ]
     },
     "metadata": {},
     "output_type": "display_data"
    }
   ],
   "source": [
    "df_max_post_detalle[df_max_post_detalle[\"nombre\"] == \"Universitario\"].groupby(\"tipo_de_trabajo\")['idpostulante']\\\n",
    ".count().sort_values(ascending=False).head(5).plot(kind= 'bar', rot = 0, title = 'Tipo de trabajo por Postulantes con nivel alcanzado Universitario')"
   ]
  },
  {
   "cell_type": "code",
   "execution_count": 34,
   "metadata": {},
   "outputs": [
    {
     "data": {
      "text/plain": [
       "nombre_area\n",
       "Producción             184430\n",
       "Ventas                 153568\n",
       "Atención al Cliente     61964\n",
       "Comercial               54218\n",
       "Administración          51134\n",
       "Name: idpostulante, dtype: int64"
      ]
     },
     "execution_count": 34,
     "metadata": {},
     "output_type": "execute_result"
    }
   ],
   "source": [
    "df_max_post_detalle[df_max_post_detalle[\"nombre\"] == \"Secundario\"].groupby(\"nombre_area\")['idpostulante']\\\n",
    ".count().sort_values(ascending=False).head(5)"
   ]
  },
  {
   "cell_type": "code",
   "execution_count": 42,
   "metadata": {},
   "outputs": [
    {
     "data": {
      "text/plain": [
       "<matplotlib.axes._subplots.AxesSubplot at 0x7f1ccdc63750>"
      ]
     },
     "execution_count": 42,
     "metadata": {},
     "output_type": "execute_result"
    },
    {
     "data": {
      "image/png": "[encoded data removed]",
      "text/plain": [
       "<Figure size 432x288 with 1 Axes>"
      ]
     },
     "metadata": {},
     "output_type": "display_data"
    }
   ],
   "source": [
    "df_max_post_detalle[df_max_post_detalle[\"nombre\"] == \"Secundario\"].groupby(\"tipo_de_trabajo\")['idpostulante']\\\n",
    ".count().sort_values(ascending=False).head(5).plot(kind = 'bar', rot = 0, title='Tipo de trabajo por Postulantes con nivel alcanzado Secundario')"
   ]
  },
  {
   "cell_type": "code",
   "execution_count": null,
   "metadata": {},
   "outputs": [],
   "source": []
  }
 ],
 "metadata": {
  "kernelspec": {
   "display_name": "Python 2",
   "language": "python",
   "name": "python2"
  },
  "language_info": {
   "codemirror_mode": {
    "name": "ipython",
    "version": 2
   },
   "file_extension": ".py",
   "mimetype": "text/x-python",
   "name": "python",
   "nbconvert_exporter": "python",
   "pygments_lexer": "ipython2",
   "version": "2.7.13+"
  }
 },
 "nbformat": 4,
 "nbformat_minor": 2
}
