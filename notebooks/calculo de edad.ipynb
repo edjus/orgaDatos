{
 "cells": [
  {
   "cell_type": "markdown",
   "metadata": {},
   "source": [
    "# Calculo la edad de los postulantes\n"
   ]
  },
  {
   "cell_type": "code",
   "execution_count": 1,
   "metadata": {},
   "outputs": [
    {
     "data": {
      "text/html": [
       "<style>.container { width:90% !important; }</style>"
      ],
      "text/plain": [
       "<IPython.core.display.HTML object>"
      ]
     },
     "metadata": {},
     "output_type": "display_data"
    }
   ],
   "source": [
    "#importaciones\n",
    "from IPython.core.display import display, HTML\n",
    "display(HTML(\"<style>.container { width:90% !important; }</style>\"))\n",
    "import pandas as pd\n",
    "import numpy as np\n",
    "import matplotlib.pyplot as plt\n",
    "import seaborn as sns\n",
    "from pandas.plotting import _converter\n",
    "%matplotlib inline \n",
    "plt.style.use('default') # haciendo los graficos un poco mas bonitos en matplotlib\n",
    "#plt.rcParams['figure.figsize'] = (20, 10)\n",
    "import datetime\n",
    "sns.set(style=\"whitegrid\") # seteando tipo de grid en seaborn"
   ]
  },
  {
   "cell_type": "code",
   "execution_count": 2,
   "metadata": {},
   "outputs": [
    {
     "data": {
      "text/html": [
       "<div>\n",
       "<style scoped>\n",
       "    .dataframe tbody tr th:only-of-type {\n",
       "        vertical-align: middle;\n",
       "    }\n",
       "\n",
       "    .dataframe tbody tr th {\n",
       "        vertical-align: top;\n",
       "    }\n",
       "\n",
       "    .dataframe thead th {\n",
       "        text-align: right;\n",
       "    }\n",
       "</style>\n",
       "<table border=\"1\" class=\"dataframe\">\n",
       "  <thead>\n",
       "    <tr style=\"text-align: right;\">\n",
       "      <th></th>\n",
       "      <th>idpostulante</th>\n",
       "      <th>fechanacimiento</th>\n",
       "      <th>sexo</th>\n",
       "    </tr>\n",
       "  </thead>\n",
       "  <tbody>\n",
       "    <tr>\n",
       "      <th>0</th>\n",
       "      <td>NM5M</td>\n",
       "      <td>1970-12-03</td>\n",
       "      <td>FEM</td>\n",
       "    </tr>\n",
       "    <tr>\n",
       "      <th>1</th>\n",
       "      <td>5awk</td>\n",
       "      <td>1962-12-04</td>\n",
       "      <td>FEM</td>\n",
       "    </tr>\n",
       "    <tr>\n",
       "      <th>2</th>\n",
       "      <td>ZaO5</td>\n",
       "      <td>1978-08-10</td>\n",
       "      <td>FEM</td>\n",
       "    </tr>\n",
       "  </tbody>\n",
       "</table>\n",
       "</div>"
      ],
      "text/plain": [
       "  idpostulante fechanacimiento sexo\n",
       "0         NM5M      1970-12-03  FEM\n",
       "1         5awk      1962-12-04  FEM\n",
       "2         ZaO5      1978-08-10  FEM"
      ]
     },
     "execution_count": 2,
     "metadata": {},
     "output_type": "execute_result"
    }
   ],
   "source": [
    "df_post_gen_age = pd.read_csv(\"/home/kevin/Documents/orga datos/datos_navent_fiuba/fiuba_2_postulantes_genero_y_edad.csv\")\n",
    "df_post_gen_age.head(3)\n"
   ]
  },
  {
   "cell_type": "code",
   "execution_count": 3,
   "metadata": {},
   "outputs": [
    {
     "data": {
      "text/plain": [
       "idpostulante       False\n",
       "fechanacimiento     True\n",
       "sexo               False\n",
       "dtype: bool"
      ]
     },
     "execution_count": 3,
     "metadata": {},
     "output_type": "execute_result"
    }
   ],
   "source": [
    "df_post_gen_age.isnull().any()"
   ]
  },
  {
   "cell_type": "code",
   "execution_count": 14,
   "metadata": {},
   "outputs": [],
   "source": [
    "df_post_gen_age[\"fechanacimiento\"] = pd.to_datetime(df_post_gen_age[\"fechanacimiento\"], errors=\"coerce\")"
   ]
  },
  {
   "cell_type": "code",
   "execution_count": 15,
   "metadata": {},
   "outputs": [
    {
     "data": {
      "text/plain": [
       "0        1970-12-03\n",
       "1        1962-12-04\n",
       "2        1978-08-10\n",
       "3        1969-05-09\n",
       "4        1981-02-16\n",
       "5        1968-12-18\n",
       "6        1966-07-16\n",
       "7        1976-07-21\n",
       "8        1976-02-28\n",
       "9        1981-03-09\n",
       "10       1973-02-13\n",
       "11       1963-04-09\n",
       "12       1967-01-30\n",
       "13       1977-07-16\n",
       "14       1973-09-11\n",
       "15       1954-08-30\n",
       "16       1959-01-05\n",
       "17       1976-09-03\n",
       "18       1964-01-19\n",
       "19       1971-11-08\n",
       "20       1974-05-06\n",
       "21       1963-03-10\n",
       "22       1966-05-30\n",
       "23       1966-03-01\n",
       "24       1969-07-17\n",
       "25       1976-01-25\n",
       "26       1966-06-29\n",
       "27       1967-06-04\n",
       "28       1979-03-24\n",
       "29       1972-06-29\n",
       "            ...    \n",
       "200858   1982-04-15\n",
       "200859   1977-04-06\n",
       "200860   1998-10-02\n",
       "200861   1996-07-08\n",
       "200862   1988-01-01\n",
       "200863   1994-03-02\n",
       "200864   1995-07-05\n",
       "200865   1990-03-21\n",
       "200866   1990-08-25\n",
       "200867   1997-07-22\n",
       "200868   1996-04-26\n",
       "200869   1988-08-26\n",
       "200870          NaT\n",
       "200871   1999-08-10\n",
       "200872          NaT\n",
       "200873   1997-01-11\n",
       "200874   1993-02-19\n",
       "200875   1994-07-26\n",
       "200876          NaT\n",
       "200877   1992-11-29\n",
       "200878   1997-07-08\n",
       "200879          NaT\n",
       "200880          NaT\n",
       "200881   1997-06-23\n",
       "200882   1997-04-22\n",
       "200883   1988-01-07\n",
       "200884   1998-05-09\n",
       "200885   1997-03-06\n",
       "200886   1997-07-07\n",
       "200887          NaT\n",
       "Name: fechanacimiento, Length: 200888, dtype: datetime64[ns]"
      ]
     },
     "execution_count": 15,
     "metadata": {},
     "output_type": "execute_result"
    }
   ],
   "source": [
    "#df_post_gen_age[\"fechanacimiento\"] = df_post_gen_age[\"fechanacimiento\"].dt.date\n",
    "df_post_gen_age[\"fechanacimiento\"]"
   ]
  },
  {
   "cell_type": "code",
   "execution_count": 16,
   "metadata": {},
   "outputs": [
    {
     "name": "stdout",
     "output_type": "stream",
     "text": [
      "58\n"
     ]
    }
   ],
   "source": [
    "date = datetime.date(year=1959,month=9,day=29)\n",
    "date2 = datetime.date(year=2018,month=3,day=31)\n",
    "print int((date2 - date).days)/364"
   ]
  },
  {
   "cell_type": "code",
   "execution_count": 18,
   "metadata": {},
   "outputs": [
    {
     "name": "stdout",
     "output_type": "stream",
     "text": [
      "31\n"
     ]
    }
   ],
   "source": [
    "date = datetime.date(year=1986,month=12,day=17)\n",
    "date2 = datetime.date.today()\n",
    "print int((date2 - date).days)/364"
   ]
  },
  {
   "cell_type": "code",
   "execution_count": 25,
   "metadata": {},
   "outputs": [],
   "source": [
    "df_post_gen_age[\"edad\"] = df_post_gen_age[\"fechanacimiento\"].apply(lambda x : ((datetime.datetime.today()- x).days)/364)"
   ]
  },
  {
   "cell_type": "code",
   "execution_count": 32,
   "metadata": {},
   "outputs": [
    {
     "data": {
      "text/plain": [
       "edad\n",
       "12.0         1\n",
       "17.0       128\n",
       "18.0      2591\n",
       "19.0      5726\n",
       "20.0      7734\n",
       "21.0      9626\n",
       "22.0     10592\n",
       "23.0     11313\n",
       "24.0     11619\n",
       "25.0     11758\n",
       "26.0     11927\n",
       "27.0     11556\n",
       "28.0      9986\n",
       "29.0      9598\n",
       "30.0      8396\n",
       "31.0      7918\n",
       "32.0      7038\n",
       "33.0      6026\n",
       "34.0      5586\n",
       "35.0      5128\n",
       "36.0      4876\n",
       "37.0      4326\n",
       "38.0      3966\n",
       "39.0      3532\n",
       "40.0      3152\n",
       "41.0      2698\n",
       "42.0      2422\n",
       "43.0      2212\n",
       "44.0      1759\n",
       "45.0      1568\n",
       "         ...  \n",
       "51.0       797\n",
       "52.0       680\n",
       "53.0       671\n",
       "54.0       596\n",
       "55.0       473\n",
       "56.0       469\n",
       "57.0       419\n",
       "58.0       315\n",
       "59.0       259\n",
       "60.0       190\n",
       "61.0       182\n",
       "62.0       130\n",
       "63.0        70\n",
       "64.0        62\n",
       "65.0        26\n",
       "66.0        24\n",
       "67.0        31\n",
       "68.0        15\n",
       "69.0        11\n",
       "70.0         9\n",
       "71.0         2\n",
       "72.0         1\n",
       "73.0         2\n",
       "74.0         1\n",
       "75.0         5\n",
       "76.0         1\n",
       "78.0         1\n",
       "96.0         1\n",
       "101.0        1\n",
       "243.0        1\n",
       "Name: edad, Length: 65, dtype: int64"
      ]
     },
     "execution_count": 32,
     "metadata": {},
     "output_type": "execute_result"
    }
   ],
   "source": [
    "df_post_gen_age.groupby(\"edad\")[\"edad\"].count()"
   ]
  },
  {
   "cell_type": "code",
   "execution_count": null,
   "metadata": {},
   "outputs": [],
   "source": []
  }
 ],
 "metadata": {
  "kernelspec": {
   "display_name": "Python 2",
   "language": "python",
   "name": "python2"
  },
  "language_info": {
   "codemirror_mode": {
    "name": "ipython",
    "version": 2
   },
   "file_extension": ".py",
   "mimetype": "text/x-python",
   "name": "python",
   "nbconvert_exporter": "python",
   "pygments_lexer": "ipython2",
   "version": "2.7.13+"
  }
 },
 "nbformat": 4,
 "nbformat_minor": 2
}
