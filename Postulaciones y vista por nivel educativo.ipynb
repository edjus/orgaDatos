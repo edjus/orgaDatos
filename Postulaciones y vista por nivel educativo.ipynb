{
 "cells": [
  {
   "cell_type": "code",
   "execution_count": 1,
   "metadata": {},
   "outputs": [
    {
     "data": {
      "text/html": [
       "<style>.container { width:90% !important; }</style>"
      ],
      "text/plain": [
       "<IPython.core.display.HTML object>"
      ]
     },
     "metadata": {},
     "output_type": "display_data"
    }
   ],
   "source": [
    "#importaciones\n",
    "from IPython.core.display import display, HTML\n",
    "display(HTML(\"<style>.container { width:90% !important; }</style>\"))\n",
    "import pandas as pd\n",
    "import numpy as np\n",
    "import matplotlib.pyplot as plt\n",
    "import seaborn as sns\n",
    "from pandas.plotting import _converter\n",
    "%matplotlib inline \n",
    "plt.style.use('default') # haciendo los graficos un poco mas bonitos en matplotlib\n",
    "#plt.rcParams['figure.figsize'] = (20, 10)\n",
    "import datetime\n",
    "sns.set(style=\"whitegrid\") # seteando tipo de grid en seaborn\n",
    "%matplotlib inline"
   ]
  },
  {
   "cell_type": "code",
   "execution_count": 2,
   "metadata": {},
   "outputs": [],
   "source": [
    "df_edu = pd.read_csv(\"../datos_navent_fiuba/fiuba_1_postulantes_educacion.csv\")\n",
    "df_gen_edad = pd.read_csv(\"../datos_navent_fiuba/fiuba_2_postulantes_genero_y_edad.csv\", parse_dates=['fechanacimiento'])\n",
    "df_vistas = pd.read_csv(\"../datos_navent_fiuba/fiuba_3_vistas.csv\", parse_dates=['timestamp'])\n",
    "df_postulaciones = pd.read_csv(\"../datos_navent_fiuba/fiuba_4_postulaciones.csv\", parse_dates=['fechapostulacion'])\n",
    "\n",
    "df_vistas[\"date\"] = df_vistas[\"timestamp\"].dt.date\n",
    "df_postulaciones[\"date\"] = df_vistas[\"timestamp\"].dt.date\n",
    "date_ini = datetime.date(year=2018,month=2,day=27)\n",
    "date_fin = datetime.date(year=2018,month=2,day=28)\n",
    "df_periodo_postulaciones = df_postulaciones[df_postulaciones[\"date\"] >= date_ini]\n",
    "df_periodo_vistas = df_vistas[(df_vistas[\"date\"] >= date_ini) & (df_vistas[\"date\"] <= date_fin)]\n",
    "\n",
    "\n"
   ]
  },
  {
   "cell_type": "code",
   "execution_count": 3,
   "metadata": {},
   "outputs": [],
   "source": [
    "orden_nombre = {\n",
    "    \"Doctorado\":0,\n",
    "    \"Master\":1,\n",
    "    \"Posgrado\":2,\n",
    "    \"Universitario\":3,\n",
    "    \"Terciario/Técnico\":4,\n",
    "    \"Secundario\":5,\n",
    "    \"Otro\":6\n",
    "}\n",
    "\n",
    "orden_estado = {\n",
    "    \"Graduado\":0,\n",
    "    \"En Curso\":1,\n",
    "    \"Abandonado\":2,\n",
    "}\n",
    "\n",
    "df_edu[\"prioridad_nom\"] = df_edu[\"nombre\"].apply(lambda nombre: orden_nombre.get(nombre))\n",
    "df_edu[\"prioridad_est\"] = df_edu[\"estado\"].apply(lambda estado: orden_estado.get(estado))\n",
    "\n",
    "df_edu.sort_values(by= [\"idpostulante\",\"prioridad_est\",\"prioridad_nom\"],inplace= True)\n",
    "\n",
    "df_edu_unicos_max = df_edu.drop_duplicates(subset = \"idpostulante\",keep= \"first\")\n",
    "\n",
    "\n",
    "#df_sum_post = df_periodo_postulaciones.groupby(\"idpostulante\")[\"postulacion\"].count()\n",
    "\n",
    "#df_sum_vista =  df_periodo_vistas.groupby(\"idpostulante\")[\"vista\"].sum().reset_index()\n",
    "\n",
    "#df_edu_post = df_edu_unicos_max.merge(df_sum_post, on=\"idpostulante\" ,how=\"inner\").groupby(\"nombre\")[\"postulacion\",].sum().reset_index()\n",
    "\n",
    "#df_edu_vista = df_edu_unicos_max.merge(df_sum_vista, on=\"idpostulante\" ,how=\"left\").groupby(\"nombre\")[\"vista\",].sum().reset_index()\n",
    "\n"
   ]
  },
  {
   "cell_type": "code",
   "execution_count": 4,
   "metadata": {},
   "outputs": [
    {
     "data": {
      "text/plain": [
       "(53711, 4)"
      ]
     },
     "execution_count": 4,
     "metadata": {},
     "output_type": "execute_result"
    }
   ],
   "source": [
    "df_periodo_vistas.drop_duplicates(subset = \"idpostulante\",keep= \"first\").shape"
   ]
  },
  {
   "cell_type": "code",
   "execution_count": 5,
   "metadata": {},
   "outputs": [],
   "source": [
    "df_sum_vistas= df_periodo_vistas.groupby(\"idpostulante\")[\"idAviso\",].count().reset_index()\n",
    "df_sum_vistas.rename(columns= {\"idAviso\" : \"Vistas\"}, inplace=True)"
   ]
  },
  {
   "cell_type": "code",
   "execution_count": 6,
   "metadata": {},
   "outputs": [
    {
     "data": {
      "text/plain": [
       "(28494, 4)"
      ]
     },
     "execution_count": 6,
     "metadata": {},
     "output_type": "execute_result"
    }
   ],
   "source": [
    "df_periodo_postulaciones.drop_duplicates(subset = \"idpostulante\",keep= \"first\").shape"
   ]
  },
  {
   "cell_type": "code",
   "execution_count": 7,
   "metadata": {},
   "outputs": [
    {
     "name": "stdout",
     "output_type": "stream",
     "text": [
      "vistas (459305, 4)\n",
      "postulaciones (500128, 4)\n"
     ]
    }
   ],
   "source": [
    "print \"vistas\",df_periodo_vistas.shape\n",
    "print \"postulaciones\",df_periodo_postulaciones.shape"
   ]
  },
  {
   "cell_type": "code",
   "execution_count": 8,
   "metadata": {},
   "outputs": [],
   "source": [
    "df_sum_post= df_periodo_postulaciones.groupby(\"idpostulante\")[\"idaviso\",].count().reset_index()\n",
    "df_sum_post.rename(columns= {\"idaviso\" : \"Postulaciones\"}, inplace=True)"
   ]
  },
  {
   "cell_type": "code",
   "execution_count": null,
   "metadata": {},
   "outputs": [],
   "source": []
  },
  {
   "cell_type": "code",
   "execution_count": 9,
   "metadata": {},
   "outputs": [
    {
     "data": {
      "text/plain": [
       "435254"
      ]
     },
     "execution_count": 9,
     "metadata": {},
     "output_type": "execute_result"
    }
   ],
   "source": [
    "#ruzo las vistas\n",
    "df_edu_vistas = df_edu_unicos_max.join(df_sum_vistas.set_index('idpostulante'),on=\"idpostulante\", how= \"inner\")\n",
    "df_edu_vistas[\"Vistas\"].sum()"
   ]
  },
  {
   "cell_type": "code",
   "execution_count": 10,
   "metadata": {},
   "outputs": [],
   "source": [
    "#cruzo las postulaciones \n",
    "df_edu_vistas_post = df_edu_vistas.join(df_sum_post.set_index('idpostulante'),on=\"idpostulante\", how= \"inner\")"
   ]
  },
  {
   "cell_type": "code",
   "execution_count": 11,
   "metadata": {},
   "outputs": [
    {
     "data": {
      "text/plain": [
       "60920"
      ]
     },
     "execution_count": 11,
     "metadata": {},
     "output_type": "execute_result"
    }
   ],
   "source": [
    "df_edu_vistas_post[\"Vistas\"].sum()"
   ]
  },
  {
   "cell_type": "code",
   "execution_count": 12,
   "metadata": {},
   "outputs": [
    {
     "data": {
      "text/plain": [
       "164328"
      ]
     },
     "execution_count": 12,
     "metadata": {},
     "output_type": "execute_result"
    }
   ],
   "source": [
    "df_edu_vistas_post[\"Postulaciones\"].sum()"
   ]
  },
  {
   "cell_type": "markdown",
   "metadata": {},
   "source": [
    "hay muchos maaas de postulaciones que vistas"
   ]
  },
  {
   "cell_type": "code",
   "execution_count": 15,
   "metadata": {},
   "outputs": [
    {
     "data": {
      "text/html": [
       "<div>\n",
       "<style scoped>\n",
       "    .dataframe tbody tr th:only-of-type {\n",
       "        vertical-align: middle;\n",
       "    }\n",
       "\n",
       "    .dataframe tbody tr th {\n",
       "        vertical-align: top;\n",
       "    }\n",
       "\n",
       "    .dataframe thead th {\n",
       "        text-align: right;\n",
       "    }\n",
       "</style>\n",
       "<table border=\"1\" class=\"dataframe\">\n",
       "  <thead>\n",
       "    <tr style=\"text-align: right;\">\n",
       "      <th></th>\n",
       "      <th>Vistas</th>\n",
       "      <th>Postulaciones</th>\n",
       "    </tr>\n",
       "    <tr>\n",
       "      <th>nombre</th>\n",
       "      <th></th>\n",
       "      <th></th>\n",
       "    </tr>\n",
       "  </thead>\n",
       "  <tbody>\n",
       "    <tr>\n",
       "      <th>Doctorado</th>\n",
       "      <td>26</td>\n",
       "      <td>29</td>\n",
       "    </tr>\n",
       "    <tr>\n",
       "      <th>Master</th>\n",
       "      <td>522</td>\n",
       "      <td>1069</td>\n",
       "    </tr>\n",
       "    <tr>\n",
       "      <th>Otro</th>\n",
       "      <td>1088</td>\n",
       "      <td>2825</td>\n",
       "    </tr>\n",
       "    <tr>\n",
       "      <th>Posgrado</th>\n",
       "      <td>1118</td>\n",
       "      <td>2987</td>\n",
       "    </tr>\n",
       "    <tr>\n",
       "      <th>Secundario</th>\n",
       "      <td>29789</td>\n",
       "      <td>78042</td>\n",
       "    </tr>\n",
       "    <tr>\n",
       "      <th>Terciario/Técnico</th>\n",
       "      <td>8303</td>\n",
       "      <td>21995</td>\n",
       "    </tr>\n",
       "    <tr>\n",
       "      <th>Universitario</th>\n",
       "      <td>20074</td>\n",
       "      <td>57381</td>\n",
       "    </tr>\n",
       "  </tbody>\n",
       "</table>\n",
       "</div>"
      ],
      "text/plain": [
       "                   Vistas  Postulaciones\n",
       "nombre                                  \n",
       "Doctorado              26             29\n",
       "Master                522           1069\n",
       "Otro                 1088           2825\n",
       "Posgrado             1118           2987\n",
       "Secundario          29789          78042\n",
       "Terciario/Técnico    8303          21995\n",
       "Universitario       20074          57381"
      ]
     },
     "execution_count": 15,
     "metadata": {},
     "output_type": "execute_result"
    }
   ],
   "source": [
    "df_edu_vistas_post = df_edu_vistas_post.groupby(\"nombre\")[\"Vistas\",\"Postulaciones\"].sum()\n",
    "df_edu_vistas_post"
   ]
  },
  {
   "cell_type": "code",
   "execution_count": 19,
   "metadata": {},
   "outputs": [],
   "source": [
    "total_vistas = float(df_edu_vistas_post[\"Vistas\"].sum())\n",
    "total_postulaciones = float(df_edu_vistas_post[\"Postulaciones\"].sum())"
   ]
  },
  {
   "cell_type": "code",
   "execution_count": 53,
   "metadata": {},
   "outputs": [],
   "source": [
    "df_edu_vistas_post[\"%Vistas\"] = df_edu_vistas_post[\"Vistas\"].apply(lambda x: round(x/total_vistas*100))\n",
    "df_edu_vistas_post[\"%Postulaciones\"] = df_edu_vistas_post[\"Postulaciones\"].apply(lambda x: round(x/total_postulaciones*100))\n",
    "\n",
    "df_edu_vistas_post= df_edu_vistas_post.reset_index(drop=True)\n",
    "df_edu_vistas_post[\"prioridad\"]= df_edu_vistas_post[\"nombre\"].apply(lambda nom: orden_nombre.get(nom))\n",
    "df_edu_vistas_post = df_edu_vistas_post.sort_values(by= \"prioridad\",ascending= False)\n",
    "df_edu_vistas_post = df_edu_vistas_post.set_index(keys=\"nombre\")\n"
   ]
  },
  {
   "cell_type": "code",
   "execution_count": 59,
   "metadata": {},
   "outputs": [
    {
     "data": {
      "text/plain": [
       "<matplotlib.axes._subplots.AxesSubplot at 0x7f66057bc6d0>"
      ]
     },
     "execution_count": 59,
     "metadata": {},
     "output_type": "execute_result"
    },
    {
     "data": {
      "image/png": "[encoded data removed]",
      "text/plain": [
       "<Figure size 432x288 with 1 Axes>"
      ]
     },
     "metadata": {},
     "output_type": "display_data"
    }
   ],
   "source": [
    "df_edu_vistas_post[[\"%Vistas\",\"%Postulaciones\"]].plot(kind=\"bar\", title=\"Distribucion Postulaciones vs Vistas\", rot= 70)"
   ]
  },
  {
   "cell_type": "code",
   "execution_count": null,
   "metadata": {},
   "outputs": [],
   "source": []
  }
 ],
 "metadata": {
  "kernelspec": {
   "display_name": "Python 2",
   "language": "python",
   "name": "python2"
  },
  "language_info": {
   "codemirror_mode": {
    "name": "ipython",
    "version": 2
   },
   "file_extension": ".py",
   "mimetype": "text/x-python",
   "name": "python",
   "nbconvert_exporter": "python",
   "pygments_lexer": "ipython2",
   "version": "2.7.13+"
  }
 },
 "nbformat": 4,
 "nbformat_minor": 2
}
